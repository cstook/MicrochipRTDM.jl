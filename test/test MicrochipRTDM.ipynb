{
 "cells": [
  {
   "cell_type": "code",
   "execution_count": 1,
   "metadata": {
    "collapsed": true
   },
   "outputs": [],
   "source": [
    "using MicrochipRTDM\n",
    "using FTD2XX"
   ]
  },
  {
   "cell_type": "code",
   "execution_count": 4,
   "metadata": {
    "collapsed": false
   },
   "outputs": [],
   "source": [
    "projectdirectory = \"c:/Users/Chris/MPLABXProjects/lbcmcp/PWM_RTDM.x\"\n",
    "mapdict = microchip_parsemap(projectdirectory,\"production\")\n",
    "uartconfig1 = UARTConfiguration(115200,8,1,\"n\",readtimeout = 1000,writetimeout = 1000)\n",
    "r = 1\n",
    "address = mapdict[:offsetP3]\n",
    "buffer = Array(UInt16,1)\n",
    "buffer2 = Array(UInt8,128)\n",
    "buffer3 = Array(UInt8,9)\n",
    "io = open(FT_DeviceIndex(0),uartconfig1)\n",
    "setlatencytimer(io,2); #Should speed things up a little\n",
    "rtdminterface = RTDMInterface(mapdict,io);"
   ]
  },
  {
   "cell_type": "code",
   "execution_count": 16,
   "metadata": {
    "collapsed": false
   },
   "outputs": [],
   "source": [
    "rtdm_write(rtdminterface, 0x5555, :SPI1CH1_BUFFER)"
   ]
  },
  {
   "cell_type": "code",
   "execution_count": 59,
   "metadata": {
    "collapsed": false
   },
   "outputs": [
    {
     "ename": "LoadError",
     "evalue": "LoadError: RTDMError: malformed response (1 retries)\nwhile loading In[59], in expression starting on line 1",
     "output_type": "error",
     "traceback": [
      "LoadError: RTDMError: malformed response (1 retries)\nwhile loading In[59], in expression starting on line 1",
      "",
      " in rtdm_read at C:\\Users\\Chris\\.julia\\v0.4\\MicrochipRTDM\\src\\RTDM.jl:178",
      " in rtdm_read at C:\\Users\\Chris\\.julia\\v0.4\\MicrochipRTDM\\src\\RTDM.jl:290"
     ]
    }
   ],
   "source": [
    "rtdm_read(rtdminterface, UInt16, :SPI1CH1_BUFFER)"
   ]
  },
  {
   "cell_type": "code",
   "execution_count": 57,
   "metadata": {
    "collapsed": false
   },
   "outputs": [
    {
     "ename": "LoadError",
     "evalue": "LoadError: RTDMError: malformed response (1 retries)\nwhile loading In[57], in expression starting on line 1",
     "output_type": "error",
     "traceback": [
      "LoadError: RTDMError: malformed response (1 retries)\nwhile loading In[57], in expression starting on line 1",
      "",
      " in rtdm_write at C:\\Users\\Chris\\.julia\\v0.4\\MicrochipRTDM\\src\\RTDM.jl:275",
      " in rtdm_write at C:\\Users\\Chris\\.julia\\v0.4\\MicrochipRTDM\\src\\RTDM.jl:281"
     ]
    }
   ],
   "source": [
    "rtdm_write(rtdminterface, 0xffff,:Flags)"
   ]
  },
  {
   "cell_type": "code",
   "execution_count": 46,
   "metadata": {
    "collapsed": false
   },
   "outputs": [
    {
     "data": {
      "text/plain": [
       "0xffff"
      ]
     },
     "execution_count": 46,
     "metadata": {},
     "output_type": "execute_result"
    }
   ],
   "source": [
    "rtdm_read(rtdminterface, UInt16, :Flags)"
   ]
  },
  {
   "cell_type": "code",
   "execution_count": 49,
   "metadata": {
    "collapsed": false
   },
   "outputs": [
    {
     "data": {
      "text/plain": [
       "128-element Array{UInt8,1}:\n",
       " 0x00\n",
       " 0x00\n",
       " 0x00\n",
       " 0x00\n",
       " 0x00\n",
       " 0x00\n",
       " 0x00\n",
       " 0x00\n",
       " 0x00\n",
       " 0x00\n",
       " 0x00\n",
       " 0x00\n",
       " 0x00\n",
       "    ⋮\n",
       " 0x00\n",
       " 0x00\n",
       " 0x00\n",
       " 0x00\n",
       " 0x00\n",
       " 0x00\n",
       " 0x00\n",
       " 0x00\n",
       " 0x00\n",
       " 0x00\n",
       " 0x00\n",
       " 0x00"
      ]
     },
     "execution_count": 49,
     "metadata": {},
     "output_type": "execute_result"
    }
   ],
   "source": [
    "buffer4 = Array(UInt8,128)\n",
    "rtdm_read!(rtdminterface, buffer4, :SPI1CH1_BUFFER)\n",
    "buffer4"
   ]
  },
  {
   "cell_type": "code",
   "execution_count": 12,
   "metadata": {
    "collapsed": false
   },
   "outputs": [
    {
     "data": {
      "text/plain": [
       "Dict{Symbol,UInt32} with 40 entries:\n",
       "  :power_in             => 0x00000824\n",
       "  :offsetP2             => 0x00000816\n",
       "  :DTRC                 => 0x00000836\n",
       "  :adc2                 => 0x00002bf8\n",
       "  :DTRA                 => 0x00000832\n",
       "  :RTDM_CRC             => 0x00000808\n",
       "  :RTDM_BffrIdx         => 0x00000802\n",
       "  :offsetP3             => 0x00000818\n",
       "  :offsetP1             => 0x00000814\n",
       "  :RTDM_CRClo           => 0x0000080c\n",
       "  :offsetP4             => 0x0000081a\n",
       "  :SPI1CH0_BUFFER       => 0x00000880\n",
       "  :offsetP6             => 0x0000081e\n",
       "  :RTDMFlags            => 0x0000080e\n",
       "  :offsetP8             => 0x00000822\n",
       "  :PWM_PERIOD           => 0x00000830\n",
       "  :RTDM_UART_MODE_VALUE => 0x00000810\n",
       "  :SPI1CH1_BUFFER       => 0x00000980\n",
       "  :RTDM_BffrLen         => 0x00000804\n",
       "  :RTDM_Poly            => 0x00000806\n",
       "  :RTDM_State           => 0x00000800\n",
       "  :PTR_SPI2CH0_BUFFER   => 0x00000840\n",
       "  :DTRD                 => 0x00000838\n",
       "  :PTR_SPI1CH0_BUFFER   => 0x0000083c\n",
       "  :DTRB                 => 0x00000834\n",
       "  ⋮                     => ⋮"
      ]
     },
     "execution_count": 12,
     "metadata": {},
     "output_type": "execute_result"
    }
   ],
   "source": [
    "mapdict"
   ]
  },
  {
   "cell_type": "code",
   "execution_count": null,
   "metadata": {
    "collapsed": true
   },
   "outputs": [],
   "source": []
  },
  {
   "cell_type": "code",
   "execution_count": 9,
   "metadata": {
    "collapsed": true
   },
   "outputs": [],
   "source": [
    "close(rtdminterface)"
   ]
  },
  {
   "cell_type": "code",
   "execution_count": null,
   "metadata": {
    "collapsed": true
   },
   "outputs": [],
   "source": []
  }
 ],
 "metadata": {
  "kernelspec": {
   "display_name": "Julia 0.4.2",
   "language": "julia",
   "name": "julia-0.4"
  },
  "language_info": {
   "file_extension": ".jl",
   "mimetype": "application/julia",
   "name": "julia",
   "version": "0.4.2"
  }
 },
 "nbformat": 4,
 "nbformat_minor": 0
}
